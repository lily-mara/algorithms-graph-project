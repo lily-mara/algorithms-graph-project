{
 "cells": [
  {
   "cell_type": "code",
   "execution_count": 1,
   "metadata": {
    "collapsed": true
   },
   "outputs": [],
   "source": [
    "import re"
   ]
  },
  {
   "cell_type": "code",
   "execution_count": 2,
   "metadata": {
    "collapsed": true
   },
   "outputs": [],
   "source": [
    "LINE = re.compile(r'\\s*(\\w+)\\s*-\\s*(\\w+)\\s*=\\s*(\\d+)')"
   ]
  },
  {
   "cell_type": "code",
   "execution_count": 3,
   "metadata": {
    "collapsed": true
   },
   "outputs": [],
   "source": [
    "def parse_line(line):\n",
    "    m = LINE.match(line)\n",
    "    if m:\n",
    "        node1 = m.group(1)\n",
    "        node2 = m.group(2)\n",
    "        weight = int(m.group(3))\n",
    "        \n",
    "        return node1, node2, weight\n",
    "    return None"
   ]
  },
  {
   "cell_type": "code",
   "execution_count": 4,
   "metadata": {
    "collapsed": false
   },
   "outputs": [],
   "source": [
    "def parse_lines(lines):\n",
    "    relations = []\n",
    "    for i, line in enumerate(lines):\n",
    "        p = parse_line(line)\n",
    "        if p is None:\n",
    "            raise ValueError('Invalid syntax on line {}: \"{}\"'.format(i + 1, line))\n",
    "        relations.append(p)\n",
    "    return relations"
   ]
  },
  {
   "cell_type": "code",
   "execution_count": 5,
   "metadata": {
    "collapsed": false
   },
   "outputs": [],
   "source": [
    "def node_names(relations):\n",
    "    nodes = set()\n",
    "    idx = 0\n",
    "    for i in relations:\n",
    "        nodes.add(i[0])\n",
    "        nodes.add(i[1])\n",
    "    return nodes"
   ]
  },
  {
   "cell_type": "code",
   "execution_count": 6,
   "metadata": {
    "collapsed": true
   },
   "outputs": [],
   "source": [
    "def node_index_table(nodes):\n",
    "    tab = {}\n",
    "    idx = 0\n",
    "    \n",
    "    for i in nodes:\n",
    "        if i not in tab.keys():\n",
    "            tab[i] = idx\n",
    "            idx += 1\n",
    "    \n",
    "    return tab"
   ]
  },
  {
   "cell_type": "code",
   "execution_count": 39,
   "metadata": {
    "collapsed": false
   },
   "outputs": [],
   "source": [
    "class Graph(object):\n",
    "    def __init__(self, filename):\n",
    "        with open(filename, 'r') as f:\n",
    "            l = f.readlines()\n",
    "        \n",
    "        self.relations = parse_lines(l)\n",
    "        self.nodes = node_names(self.relations)\n",
    "        self.index = node_index_table(self.nodes)\n",
    "        self._matrix()\n",
    "        \n",
    "    def _matrix(self):\n",
    "        self.mat = [[-1 for _ in self.nodes] for _ in self.nodes]\n",
    "        for a, b, w in self.relations:\n",
    "            self._set_weight(a, b, w)\n",
    "            self._set_weight(b, a, w)\n",
    "            self._set_weight(a, a, 0)\n",
    "            self._set_weight\n",
    "        \n",
    "    def get_weight(self, x, y):\n",
    "        x_idx = self.index[x]\n",
    "        y_idx = self.index[y]\n",
    "        \n",
    "        return self.mat[x_idx][y_idx]\n",
    "    \n",
    "    def _set_weight(self, x, y, w):\n",
    "        x_idx = self.index[x]\n",
    "        y_idx = self.index[y]\n",
    "        \n",
    "        self.mat[x_idx][y_idx] = w\n",
    "        \n",
    "    def dijkstra(self, n):\n",
    "        v = {n}\n",
    "        path = {n: (0,n)}\n",
    "        \n",
    "        while v != self.nodes:\n",
    "            node, weight, pre = self.nearest_neighbor(v)\n",
    "            v.add(node)\n",
    "            weight += path[pre][0]\n",
    "            path[node] = (weight, pre)\n",
    "        return path\n",
    "    \n",
    "    def prims(self):\n",
    "        y = self.nodes.copy()\n",
    "        x = {y.pop()}\n",
    "        t = []\n",
    "        \n",
    "        while x != self.nodes:\n",
    "            u, v, w = self.cheapest_cut_edge(x, y)\n",
    "            x.add(v)\n",
    "            y.remove(v)\n",
    "            t.append((u, v, w))\n",
    "            \n",
    "        return t\n",
    "\n",
    "    def print_prims(self):\n",
    "        p = self.prims()\n",
    "        \n",
    "        for pre, node, weight in p:\n",
    "            print('{}->{} {}'.format(pre, node, weight))\n",
    "            \n",
    "    def cheapest_cut_edge(self, X, Y):\n",
    "        v, w, u = self.nearest_neighbor(X)\n",
    "        return u, v, w\n",
    "    \n",
    "    def print_dijkstra(self, n):\n",
    "        d = self.dijkstra(n)\n",
    "        l = [n]\n",
    "        \n",
    "        while len(l) < len(self.nodes):\n",
    "            x = l[-1]\n",
    "            for node, (weight, pre) in d.items():\n",
    "                if pre == x and node not in l:\n",
    "                    arrows = '->'.join(l[::-1])\n",
    "                    print('{}->{} {}'.format(arrows, node, weight))\n",
    "                    l.append(node)\n",
    "\n",
    "    def nearest_neighbor(self,v):\n",
    "        return min(self.neighbors(v), key = lambda x:x[1])\n",
    "        \n",
    "    def neighbors(self, v):\n",
    "        neighbors = []\n",
    "        for v_node in v:\n",
    "            for self_node in self.nodes:\n",
    "                weight = self.get_weight(v_node, self_node)\n",
    "                if weight != 0 and weight != -1 and self_node not in v:\n",
    "                    neighbors.append((self_node, weight, v_node))\n",
    "        return neighbors"
   ]
  },
  {
   "cell_type": "code",
   "execution_count": 8,
   "metadata": {
    "collapsed": false
   },
   "outputs": [
    {
     "name": "stdout",
     "output_type": "stream",
     "text": [
      "[[-1, 10, -1], [10, 0, 5], [-1, 5, -1]]\n",
      "{'a': 1, 'c': 0, 'b': 2}\n"
     ]
    }
   ],
   "source": [
    "m = Matrix(['a-b=5', 'a-c=10'])\n",
    "print(m.mat)\n",
    "print(m.index)"
   ]
  },
  {
   "cell_type": "code",
   "execution_count": 9,
   "metadata": {
    "collapsed": false
   },
   "outputs": [],
   "source": [
    "def mat_for_file(filename):\n",
    "    with open(filename, 'r') as f:\n",
    "        l = f.readlines()\n",
    "        return Matrix(l)"
   ]
  },
  {
   "cell_type": "code",
   "execution_count": 40,
   "metadata": {
    "collapsed": false,
    "scrolled": true
   },
   "outputs": [
    {
     "name": "stdout",
     "output_type": "stream",
     "text": [
      "c->e 4\n",
      "e->b 2\n",
      "b->a 1\n",
      "a->d 4\n",
      "c->f 5\n"
     ]
    }
   ],
   "source": [
    "m = Graph('matrix1')\n",
    "m.print_prims()"
   ]
  }
 ],
 "metadata": {
  "kernelspec": {
   "display_name": "Python 3",
   "language": "python",
   "name": "python3"
  },
  "language_info": {
   "codemirror_mode": {
    "name": "ipython",
    "version": 3
   },
   "file_extension": ".py",
   "mimetype": "text/x-python",
   "name": "python",
   "nbconvert_exporter": "python",
   "pygments_lexer": "ipython3",
   "version": "3.5.1"
  }
 },
 "nbformat": 4,
 "nbformat_minor": 0
}
